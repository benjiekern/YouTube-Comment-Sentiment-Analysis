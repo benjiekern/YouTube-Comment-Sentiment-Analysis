{
 "cells": [
  {
   "cell_type": "code",
   "execution_count": 1,
   "id": "7cbc5e20-341e-4cbc-b3bf-d20e40af9df2",
   "metadata": {},
   "outputs": [],
   "source": [
    "# Imports\n",
    "import matplotlib.pyplot as plt\n",
    "import numpy as np\n",
    "import nltk\n",
    "from nltk.corpus import stopwords\n",
    "from nltk.stem import *\n",
    "import pandas as pd\n",
    "import re\n",
    "from sklearn.model_selection import train_test_split\n",
    "from tensorflow.keras import Sequential\n",
    "from tensorflow.keras.callbacks import EarlyStopping\n",
    "from tensorflow.keras.layers import Dense, Dropout, Embedding, LSTM\n",
    "from tensorflow.keras.preprocessing.text import Tokenizer\n",
    "from tensorflow.keras.preprocessing.sequence import pad_sequences\n",
    "import tensorflow as tf\n",
    "import warnings"
   ]
  },
  {
   "cell_type": "code",
   "execution_count": 2,
   "id": "93c16770-885d-4ff3-8122-ef677a27f1e5",
   "metadata": {},
   "outputs": [],
   "source": [
    "# Disable Warnings\n",
    "warnings.filterwarnings('ignore')"
   ]
  },
  {
   "cell_type": "code",
   "execution_count": 3,
   "id": "5e8b90cf-1406-4fe8-bfaf-e837c220c272",
   "metadata": {},
   "outputs": [],
   "source": [
    "# Load CSV file\n",
    "reviews = pd.read_csv('data/YoutubeCommentsDataSet.csv', sep=',')"
   ]
  },
  {
   "cell_type": "code",
   "execution_count": 4,
   "id": "fab034b0-aab4-439a-9f1a-a80f49e906d9",
   "metadata": {},
   "outputs": [],
   "source": [
    "reviews.rename(columns={'Comment' : 'comment', 'Sentiment' : 'sentiment'}, inplace=True)"
   ]
  },
  {
   "cell_type": "code",
   "execution_count": 5,
   "id": "4d41e0fb-0050-4172-bed4-bd3b6c952f57",
   "metadata": {},
   "outputs": [
    {
     "data": {
      "text/plain": [
       "0        lets not forget that apple pay in 2014 require...\n",
       "1        here in nz 50 of retailers don’t even have con...\n",
       "2        i will forever acknowledge this channel with t...\n",
       "3        whenever i go to a place that doesn’t take app...\n",
       "4        apple pay is so convenient secure and easy to ...\n",
       "                               ...                        \n",
       "18403    i really like the point about engineering tool...\n",
       "18404    i’ve just started exploring this field and thi...\n",
       "18405    excelente video con una pregunta filosófica pr...\n",
       "18406    hey daniel just discovered your channel a coup...\n",
       "18407    this is great focus is key a playful approach ...\n",
       "Name: comment, Length: 18408, dtype: object"
      ]
     },
     "execution_count": 5,
     "metadata": {},
     "output_type": "execute_result"
    }
   ],
   "source": [
    "reviews['comment']"
   ]
  },
  {
   "cell_type": "code",
   "execution_count": 6,
   "id": "da7b4792-1232-4769-a3eb-7759899ecb8b",
   "metadata": {},
   "outputs": [
    {
     "data": {
      "text/plain": [
       "0         neutral\n",
       "1        negative\n",
       "2        positive\n",
       "3        negative\n",
       "4        positive\n",
       "           ...   \n",
       "18403    positive\n",
       "18404    positive\n",
       "18405     neutral\n",
       "18406    positive\n",
       "18407    positive\n",
       "Name: sentiment, Length: 18408, dtype: object"
      ]
     },
     "execution_count": 6,
     "metadata": {},
     "output_type": "execute_result"
    }
   ],
   "source": [
    "reviews['sentiment']"
   ]
  },
  {
   "cell_type": "code",
   "execution_count": 7,
   "id": "905c9d4a-557c-430a-b436-2dad694ea642",
   "metadata": {},
   "outputs": [],
   "source": [
    "reviews = reviews[reviews['sentiment'] != 'neutral']"
   ]
  },
  {
   "cell_type": "code",
   "execution_count": 8,
   "id": "9e288224-9ee3-4eb8-97b9-95b837e29096",
   "metadata": {},
   "outputs": [],
   "source": [
    "# Remove nulls from dataframe\n",
    "reviews.dropna(inplace=True)"
   ]
  },
  {
   "cell_type": "code",
   "execution_count": 9,
   "id": "4d1a3e0a-b922-45a1-859f-12828b23a77b",
   "metadata": {},
   "outputs": [],
   "source": [
    "reviews['comment_length'] = reviews['comment'].str.len()"
   ]
  },
  {
   "cell_type": "code",
   "execution_count": 10,
   "id": "039ab087-6e22-44ec-b947-2c9beb318cd0",
   "metadata": {},
   "outputs": [
    {
     "data": {
      "text/plain": [
       "1        163\n",
       "2        183\n",
       "3        450\n",
       "4        135\n",
       "6         74\n",
       "        ... \n",
       "18401    609\n",
       "18403    277\n",
       "18404    118\n",
       "18406     88\n",
       "18407    404\n",
       "Name: comment_length, Length: 13739, dtype: int64"
      ]
     },
     "execution_count": 10,
     "metadata": {},
     "output_type": "execute_result"
    }
   ],
   "source": [
    "reviews['comment_length']"
   ]
  },
  {
   "cell_type": "code",
   "execution_count": 11,
   "id": "07097c20-911e-426c-98ff-626f4a6f8b00",
   "metadata": {},
   "outputs": [
    {
     "data": {
      "text/plain": [
       "(0.0, 1000.0)"
      ]
     },
     "execution_count": 11,
     "metadata": {},
     "output_type": "execute_result"
    },
    {
     "data": {
      "image/png": "[encoded data removed]",
      "text/plain": [
       "<Figure size 640x480 with 1 Axes>"
      ]
     },
     "metadata": {},
     "output_type": "display_data"
    }
   ],
   "source": [
    "plt.hist(reviews['comment_length'], bins=1000, color='purple')\n",
    "plt.xlim(0, 1000)"
   ]
  },
  {
   "cell_type": "code",
   "execution_count": 12,
   "id": "a9e82569-2716-4bd5-8f6f-d83e96a72c12",
   "metadata": {},
   "outputs": [
    {
     "data": {
      "text/plain": [
       "5487"
      ]
     },
     "execution_count": 12,
     "metadata": {},
     "output_type": "execute_result"
    }
   ],
   "source": [
    "max(reviews['comment_length'])"
   ]
  },
  {
   "cell_type": "code",
   "execution_count": 13,
   "id": "7996fcad-1436-4ff8-8a43-5e30f0f5f176",
   "metadata": {},
   "outputs": [
    {
     "data": {
      "text/plain": [
       "np.float64(171.05822840090255)"
      ]
     },
     "execution_count": 13,
     "metadata": {},
     "output_type": "execute_result"
    }
   ],
   "source": [
    "np.mean(reviews['comment_length'])"
   ]
  },
  {
   "cell_type": "code",
   "execution_count": 14,
   "id": "80ee02d1-d0f4-459b-8f35-f198a1b448f2",
   "metadata": {},
   "outputs": [
    {
     "data": {
      "text/plain": [
       "np.float64(117.0)"
      ]
     },
     "execution_count": 14,
     "metadata": {},
     "output_type": "execute_result"
    }
   ],
   "source": [
    "np.median(reviews['comment_length'])"
   ]
  },
  {
   "cell_type": "code",
   "execution_count": 15,
   "id": "8ab3e378-100b-4b24-8447-7c0cdbd34ec6",
   "metadata": {},
   "outputs": [
    {
     "data": {
      "text/html": [
       "<div>\n",
       "<style scoped>\n",
       "    .dataframe tbody tr th:only-of-type {\n",
       "        vertical-align: middle;\n",
       "    }\n",
       "\n",
       "    .dataframe tbody tr th {\n",
       "        vertical-align: top;\n",
       "    }\n",
       "\n",
       "    .dataframe thead th {\n",
       "        text-align: right;\n",
       "    }\n",
       "</style>\n",
       "<table border=\"1\" class=\"dataframe\">\n",
       "  <thead>\n",
       "    <tr style=\"text-align: right;\">\n",
       "      <th></th>\n",
       "      <th>comment</th>\n",
       "      <th>sentiment</th>\n",
       "      <th>comment_length</th>\n",
       "    </tr>\n",
       "  </thead>\n",
       "  <tbody>\n",
       "    <tr>\n",
       "      <th>1</th>\n",
       "      <td>here in nz 50 of retailers don’t even have con...</td>\n",
       "      <td>negative</td>\n",
       "      <td>163</td>\n",
       "    </tr>\n",
       "    <tr>\n",
       "      <th>2</th>\n",
       "      <td>i will forever acknowledge this channel with t...</td>\n",
       "      <td>positive</td>\n",
       "      <td>183</td>\n",
       "    </tr>\n",
       "    <tr>\n",
       "      <th>3</th>\n",
       "      <td>whenever i go to a place that doesn’t take app...</td>\n",
       "      <td>negative</td>\n",
       "      <td>450</td>\n",
       "    </tr>\n",
       "    <tr>\n",
       "      <th>4</th>\n",
       "      <td>apple pay is so convenient secure and easy to ...</td>\n",
       "      <td>positive</td>\n",
       "      <td>135</td>\n",
       "    </tr>\n",
       "    <tr>\n",
       "      <th>6</th>\n",
       "      <td>we only got apple pay in south africa in 20202...</td>\n",
       "      <td>positive</td>\n",
       "      <td>74</td>\n",
       "    </tr>\n",
       "    <tr>\n",
       "      <th>...</th>\n",
       "      <td>...</td>\n",
       "      <td>...</td>\n",
       "      <td>...</td>\n",
       "    </tr>\n",
       "    <tr>\n",
       "      <th>18401</th>\n",
       "      <td>i come from a physics background and usually w...</td>\n",
       "      <td>positive</td>\n",
       "      <td>609</td>\n",
       "    </tr>\n",
       "    <tr>\n",
       "      <th>18403</th>\n",
       "      <td>i really like the point about engineering tool...</td>\n",
       "      <td>positive</td>\n",
       "      <td>277</td>\n",
       "    </tr>\n",
       "    <tr>\n",
       "      <th>18404</th>\n",
       "      <td>i’ve just started exploring this field and thi...</td>\n",
       "      <td>positive</td>\n",
       "      <td>118</td>\n",
       "    </tr>\n",
       "    <tr>\n",
       "      <th>18406</th>\n",
       "      <td>hey daniel just discovered your channel a coup...</td>\n",
       "      <td>positive</td>\n",
       "      <td>88</td>\n",
       "    </tr>\n",
       "    <tr>\n",
       "      <th>18407</th>\n",
       "      <td>this is great focus is key a playful approach ...</td>\n",
       "      <td>positive</td>\n",
       "      <td>404</td>\n",
       "    </tr>\n",
       "  </tbody>\n",
       "</table>\n",
       "<p>13371 rows × 3 columns</p>\n",
       "</div>"
      ],
      "text/plain": [
       "                                                 comment sentiment  \\\n",
       "1      here in nz 50 of retailers don’t even have con...  negative   \n",
       "2      i will forever acknowledge this channel with t...  positive   \n",
       "3      whenever i go to a place that doesn’t take app...  negative   \n",
       "4      apple pay is so convenient secure and easy to ...  positive   \n",
       "6      we only got apple pay in south africa in 20202...  positive   \n",
       "...                                                  ...       ...   \n",
       "18401  i come from a physics background and usually w...  positive   \n",
       "18403  i really like the point about engineering tool...  positive   \n",
       "18404  i’ve just started exploring this field and thi...  positive   \n",
       "18406  hey daniel just discovered your channel a coup...  positive   \n",
       "18407  this is great focus is key a playful approach ...  positive   \n",
       "\n",
       "       comment_length  \n",
       "1                 163  \n",
       "2                 183  \n",
       "3                 450  \n",
       "4                 135  \n",
       "6                  74  \n",
       "...               ...  \n",
       "18401             609  \n",
       "18403             277  \n",
       "18404             118  \n",
       "18406              88  \n",
       "18407             404  \n",
       "\n",
       "[13371 rows x 3 columns]"
      ]
     },
     "execution_count": 15,
     "metadata": {},
     "output_type": "execute_result"
    }
   ],
   "source": [
    "# Remove duplicate rows\n",
    "reviews = reviews[~reviews.duplicated()]\n",
    "reviews"
   ]
  },
  {
   "cell_type": "code",
   "execution_count": 16,
   "id": "3cc65e89-5c73-43d1-a787-a8d4f0b1819c",
   "metadata": {},
   "outputs": [
    {
     "data": {
      "text/plain": [
       "0"
      ]
     },
     "execution_count": 16,
     "metadata": {},
     "output_type": "execute_result"
    }
   ],
   "source": [
    "# Confirm duplicate rows have been removed\n",
    "len(reviews[reviews.duplicated()])"
   ]
  },
  {
   "cell_type": "code",
   "execution_count": 17,
   "id": "a0db469f-3a80-4da8-b87e-c4e9a46a4040",
   "metadata": {},
   "outputs": [],
   "source": [
    "# Set all reviews to lowercase to maintain consistency\n",
    "reviews['comment'] = reviews['comment'].str.lower()"
   ]
  },
  {
   "cell_type": "code",
   "execution_count": 18,
   "id": "2ad3871c-ffcf-4f4d-a670-dcd5328e169d",
   "metadata": {},
   "outputs": [],
   "source": [
    "# Remove non-ASCII characters\n",
    "reviews['comment'] = reviews['comment'].str.replace(r'[^\\x00-\\x7F]+', '', regex=True)"
   ]
  },
  {
   "cell_type": "code",
   "execution_count": 19,
   "id": "00c43e6a-6501-486e-9491-744f07450301",
   "metadata": {},
   "outputs": [],
   "source": [
    "# Remove punctuation and numbers\n",
    "reviews['comment'] = reviews['comment'].apply(lambda x : re.sub(r'[^A-Za-z\\s]', '', x))"
   ]
  },
  {
   "cell_type": "code",
   "execution_count": 20,
   "id": "4a47b9a2-17ab-468f-9aee-d11919982cfa",
   "metadata": {},
   "outputs": [
    {
     "name": "stdout",
     "output_type": "stream",
     "text": [
      "Empty DataFrame\n",
      "Columns: [comment, sentiment, comment_length]\n",
      "Index: []\n"
     ]
    }
   ],
   "source": [
    "# Verify that unnecessary values were removed\n",
    "mask = reviews['comment'].str.contains(r'[^A-Za-z ]', regex=True, na=False)\n",
    "print(reviews[mask])"
   ]
  },
  {
   "cell_type": "code",
   "execution_count": 21,
   "id": "c23c339f-39a1-4923-9be4-1d4345de0325",
   "metadata": {},
   "outputs": [],
   "source": [
    "# Remove extra spaces\n",
    "reviews['comment'] = reviews['comment'].str.split().str.join(' ')"
   ]
  },
  {
   "cell_type": "code",
   "execution_count": 22,
   "id": "7a0ff7d6-6dab-4ec2-80df-43acf6543267",
   "metadata": {},
   "outputs": [],
   "source": [
    "# Remove leading and trailing whitespace\n",
    "reviews['comment'] = reviews['comment'].str.strip()"
   ]
  },
  {
   "cell_type": "code",
   "execution_count": 23,
   "id": "80b9b320-25ce-45a2-8bc2-4a8ef1ffaeec",
   "metadata": {},
   "outputs": [
    {
     "name": "stdout",
     "output_type": "stream",
     "text": [
      "Empty DataFrame\n",
      "Columns: [comment, sentiment, comment_length]\n",
      "Index: []\n"
     ]
    }
   ],
   "source": [
    "# Confirm there are no extra spaces (i.e., no more than 2 spaces together\n",
    "mask = reviews['comment'].str.contains(r'\\s{2,}', regex=True, na=False)\n",
    "print(reviews[mask])"
   ]
  },
  {
   "cell_type": "code",
   "execution_count": 24,
   "id": "190262b5-5c8e-4b08-a5bf-5b509739a1d2",
   "metadata": {},
   "outputs": [
    {
     "name": "stderr",
     "output_type": "stream",
     "text": [
      "[nltk_data] Downloading package wordnet to\n",
      "[nltk_data]     C:\\Users\\Benji\\AppData\\Roaming\\nltk_data...\n",
      "[nltk_data]   Package wordnet is already up-to-date!\n",
      "[nltk_data] Downloading package omw-1.4 to\n",
      "[nltk_data]     C:\\Users\\Benji\\AppData\\Roaming\\nltk_data...\n",
      "[nltk_data]   Package omw-1.4 is already up-to-date!\n"
     ]
    }
   ],
   "source": [
    "# Get rid of stopwords and perform stemming\n",
    "nltk.download('wordnet')\n",
    "nltk.download('omw-1.4')\n",
    "\n",
    "lemmatizer = WordNetLemmatizer()\n",
    "stop_words = set(stopwords.words('english'))\n",
    "\n",
    "def preprocess(text):\n",
    "    tokens = text.split()\n",
    "    processed = [lemmatizer.lemmatize(word) for word in tokens if word not in stop_words]\n",
    "    return ' '.join(processed)\n",
    "\n",
    "\n",
    "reviews['comment'] = reviews['comment'].apply(preprocess)"
   ]
  },
  {
   "cell_type": "code",
   "execution_count": 25,
   "id": "272f066f-b745-4db7-a67d-8596cfaae1e1",
   "metadata": {},
   "outputs": [
    {
     "data": {
      "text/plain": [
       "1     nz retailer dont even contactless credit card ...\n",
       "2     forever acknowledge channel help lesson idea e...\n",
       "3     whenever go place doesnt take apple pay doesnt...\n",
       "4     apple pay convenient secure easy use used kore...\n",
       "6            got apple pay south africa widely accepted\n",
       "8     united state abundance retailer accept apple p...\n",
       "10    wow really went town psu test rack thats serio...\n",
       "11    lab exciting thing ive seen reallly going shak...\n",
       "12    linus im engineer love lmg content across chan...\n",
       "13    used time linus smartest guy room video clearl...\n",
       "Name: comment, dtype: object"
      ]
     },
     "execution_count": 25,
     "metadata": {},
     "output_type": "execute_result"
    }
   ],
   "source": [
    "reviews['comment'].head(10)"
   ]
  },
  {
   "cell_type": "code",
   "execution_count": 26,
   "id": "1a72985e-9e64-4368-b8d9-4abe69a21378",
   "metadata": {},
   "outputs": [],
   "source": [
    "# Tokenize comments\n",
    "from tensorflow.keras.preprocessing.text import Tokenizer\n",
    "\n",
    "tokenizer = Tokenizer(num_words=10000, oov_token=\"<OOV>\")\n",
    "X = reviews['comment']\n",
    "tokenizer.fit_on_texts(X)\n",
    "X = tokenizer.texts_to_sequences(X)"
   ]
  },
  {
   "cell_type": "code",
   "execution_count": 27,
   "id": "69d30620-4b8d-4bbd-8c60-8924f1093b45",
   "metadata": {},
   "outputs": [
    {
     "name": "stdout",
     "output_type": "stream",
     "text": [
      "Median: 12\n",
      "90th percentile: 33.0\n"
     ]
    },
    {
     "data": {
      "image/png": "[encoded data removed]",
      "text/plain": [
       "<Figure size 640x480 with 1 Axes>"
      ]
     },
     "metadata": {},
     "output_type": "display_data"
    }
   ],
   "source": [
    "# Compute lengths of each sublist\n",
    "lengths = [len(sublist) for sublist in X]\n",
    "\n",
    "import statistics\n",
    "\n",
    "plt.hist(lengths, bins=30)\n",
    "plt.xlim(0, 200)\n",
    "\n",
    "median_length = statistics.median(lengths)\n",
    "print(f'Median: {median_length}')\n",
    "print(f'90th percentile: {np.percentile(lengths, 90)}')"
   ]
  },
  {
   "cell_type": "code",
   "execution_count": 28,
   "id": "9c6af42e-6598-4202-a272-626ff50154bc",
   "metadata": {},
   "outputs": [],
   "source": [
    "reviews['comment_lengths'] = reviews['comment'].str.split().apply(len)"
   ]
  },
  {
   "cell_type": "code",
   "execution_count": 29,
   "id": "2b26a7e7-e845-4c0f-b172-ae3ea8b47e36",
   "metadata": {
    "scrolled": true
   },
   "outputs": [
    {
     "data": {
      "text/plain": [
       "(0.0, 200.0)"
      ]
     },
     "execution_count": 29,
     "metadata": {},
     "output_type": "execute_result"
    },
    {
     "data": {
      "image/png": "[encoded data removed]",
      "text/plain": [
       "<Figure size 640x480 with 1 Axes>"
      ]
     },
     "metadata": {},
     "output_type": "display_data"
    }
   ],
   "source": [
    "plt.hist(reviews['comment_lengths'], bins = 100)\n",
    "plt.xlim(0, 200)"
   ]
  },
  {
   "cell_type": "code",
   "execution_count": 30,
   "id": "9a76475c-e3d9-4e7a-be60-afb9d859488c",
   "metadata": {},
   "outputs": [
    {
     "data": {
      "text/plain": [
       "np.float64(12.0)"
      ]
     },
     "execution_count": 30,
     "metadata": {},
     "output_type": "execute_result"
    }
   ],
   "source": [
    "np.median(reviews['comment_lengths'])"
   ]
  },
  {
   "cell_type": "code",
   "execution_count": 31,
   "id": "7bba1e7d-3f9e-4b9d-8cad-94a55c5f1fa5",
   "metadata": {
    "scrolled": true
   },
   "outputs": [],
   "source": [
    "maxlen = int(np.percentile(lengths, 90))\n",
    "X = pad_sequences(X, maxlen=maxlen, padding='post', truncating='post')\n",
    "y = reviews['sentiment']"
   ]
  },
  {
   "cell_type": "code",
   "execution_count": 32,
   "id": "93e7fbbc-7973-4358-b858-9e1d0ece7a26",
   "metadata": {},
   "outputs": [
    {
     "data": {
      "text/plain": [
       "array([0, 1, 0, ..., 1, 1, 1], shape=(13371,))"
      ]
     },
     "execution_count": 32,
     "metadata": {},
     "output_type": "execute_result"
    }
   ],
   "source": [
    "from sklearn.preprocessing import LabelEncoder\n",
    "\n",
    "# Convert sentiment column to 0's and 1's\n",
    "le = LabelEncoder()\n",
    "y = le.fit_transform(reviews['sentiment'])\n",
    "y"
   ]
  },
  {
   "cell_type": "code",
   "execution_count": 33,
   "id": "4dfa650f-dedc-4758-a997-921a497fef7b",
   "metadata": {},
   "outputs": [
    {
     "data": {
      "text/plain": [
       "array([[1., 0.],\n",
       "       [0., 1.],\n",
       "       [1., 0.],\n",
       "       ...,\n",
       "       [0., 1.],\n",
       "       [0., 1.],\n",
       "       [0., 1.]], shape=(13371, 2))"
      ]
     },
     "execution_count": 33,
     "metadata": {},
     "output_type": "execute_result"
    }
   ],
   "source": [
    "from tensorflow.keras.utils import to_categorical\n",
    "\n",
    "y = to_categorical(y)\n",
    "y"
   ]
  },
  {
   "cell_type": "code",
   "execution_count": 34,
   "id": "b5278bfb-8c63-4178-93be-8ebe0250d509",
   "metadata": {},
   "outputs": [
    {
     "data": {
      "text/plain": [
       "array([[7484, 7485,   22, ...,    0,    0,    0],\n",
       "       [ 719, 3960,   69, ...,    0,    0,    0],\n",
       "       [ 467,   45,  275, ..., 2243,  347,  840],\n",
       "       ...,\n",
       "       [  29,  139, 3998, ...,    0,    0,    0],\n",
       "       [ 282, 2733, 1130, ...,    0,    0,    0],\n",
       "       [   9,  548,  809, ...,  992,  377,  541]],\n",
       "      shape=(13371, 33), dtype=int32)"
      ]
     },
     "execution_count": 34,
     "metadata": {},
     "output_type": "execute_result"
    }
   ],
   "source": [
    "X"
   ]
  },
  {
   "cell_type": "code",
   "execution_count": 35,
   "id": "c5e1a279-31b9-4312-a315-0dc8c7f5bc9e",
   "metadata": {},
   "outputs": [],
   "source": [
    "# Split data into testing and training sets\n",
    "X_train, X_test, y_train, y_test = train_test_split(X, y, test_size=0.2)\n",
    "\n",
    "y_train = np.argmax(y_train, axis=1)\n",
    "y_test = np.argmax(y_test, axis=1)"
   ]
  },
  {
   "cell_type": "code",
   "execution_count": 36,
   "id": "2bc5d5bc-f086-4793-a223-621240178af1",
   "metadata": {},
   "outputs": [],
   "source": [
    "# Evaluate Model\n",
    "def evaluate_model(model, data_loader, criterion, device):\n",
    "    model.eval() \n",
    "    total_loss = 0\n",
    "    all_predictions = []\n",
    "    all_labels = []\n",
    "\n",
    "    with torch.no_grad():\n",
    "        for batch in data_loader:\n",
    "            inputs = batch['sequence'].to(device)\n",
    "            labels = batch['label'].to(device)\n",
    "            outputs = model(inputs)\n",
    "            loss = criterion(outputs, labels)\n",
    "            total_loss += loss.item() * inputs.size(0)\n",
    "            _, predicted_classes = torch.max(outputs, 1)\n",
    "            all_predictions.extend(predicted_classes.cpu().numpy())\n",
    "            all_labels.extend(labels.squeeze().cpu().numpy())\n",
    "            \n",
    "    avg_loss = total_loss / len(data_loader.dataset)\n",
    "    true_labels = np.array(all_labels)\n",
    "    predicted_labels = np.array(all_predictions)\n",
    "    val_accuracy = accuracy_score(true_labels, predicted_labels)\n",
    "    model.train() \n",
    "    return avg_loss, val_accuracy"
   ]
  },
  {
   "cell_type": "code",
   "execution_count": 37,
   "id": "f8037d09-c73d-4aa1-9912-e2e01a2264f2",
   "metadata": {},
   "outputs": [
    {
     "name": "stdout",
     "output_type": "stream",
     "text": [
      "Using device: cpu\n",
      "Model Architecture:\n",
      " SentimentModel(\n",
      "  (embedding): Embedding(10000, 256)\n",
      "  (lstm): LSTM(256, 256, num_layers=2, batch_first=True, bidirectional=True)\n",
      "  (dropout): Dropout(p=0.4, inplace=False)\n",
      "  (fc): Linear(in_features=512, out_features=64, bias=True)\n",
      "  (relu): ReLU()\n",
      "  (out): Linear(in_features=64, out_features=3, bias=True)\n",
      ")\n"
     ]
    }
   ],
   "source": [
    "import torch\n",
    "import torch.nn as nn\n",
    "from torch.optim.lr_scheduler import ReduceLROnPlateau\n",
    "\n",
    "VOCAB_SIZE = 10000\n",
    "EMBED_SIZE = 256\n",
    "LSTM_UNITS = 256\n",
    "BATCH_SIZE = 128\n",
    "N_EPOCHS = 15 \n",
    "\n",
    "# Sentiment Model\n",
    "class SentimentModel(nn.Module):\n",
    "    def __init__(self, vocab_size, embed_size, lstm_units):\n",
    "        super(SentimentModel, self).__init__()\n",
    "        self.embedding = nn.Embedding(vocab_size, embed_size)\n",
    "        \n",
    "        # BiLSTM\n",
    "        self.lstm = nn.LSTM(\n",
    "            input_size=embed_size,\n",
    "            hidden_size=lstm_units,\n",
    "            num_layers=2,\n",
    "            batch_first=True,\n",
    "            bidirectional=True\n",
    "        )\n",
    "        \n",
    "        # Fully connected layers\n",
    "        self.dropout = nn.Dropout(0.4)\n",
    "        self.fc = nn.Linear(lstm_units * 2, 64)\n",
    "        self.relu = nn.ReLU()\n",
    "        self.out = nn.Linear(64, 3)\n",
    "\n",
    "    def forward(self, x):\n",
    "        x = self.embedding(x)\n",
    "        lstm_out, (h_n, c_n) = self.lstm(x)\n",
    "        \n",
    "        # Concatenate last hidden states from both directions\n",
    "        h_forward = h_n[-2,:,:]\n",
    "        h_backward = h_n[-1,:,:]\n",
    "        h = torch.cat((h_forward, h_backward), dim=1)\n",
    "        \n",
    "        x = self.dropout(h)\n",
    "        x = self.fc(x)\n",
    "        x = self.relu(x)\n",
    "        x = self.out(x)\n",
    "        return x\n",
    "\n",
    "device = torch.device('cuda' if torch.cuda.is_available() else 'cpu')\n",
    "print(f\"Using device: {device}\")\n",
    "\n",
    "model = SentimentModel(VOCAB_SIZE, EMBED_SIZE, LSTM_UNITS)\n",
    "class_weights = torch.tensor([1.0, 1.5, 1.0], device=device)\n",
    "criterion = nn.CrossEntropyLoss(weight=class_weights)\n",
    "optimizer = torch.optim.Adam(model.parameters(), lr=0.001)\n",
    "scheduler = torch.optim.lr_scheduler.ReduceLROnPlateau(\n",
    "    optimizer,\n",
    "    mode='min',\n",
    "    factor=0.5,\n",
    "    patience=2\n",
    ")\n",
    "\n",
    "print(\"Model Architecture:\\n\", model)"
   ]
  },
  {
   "cell_type": "code",
   "execution_count": 38,
   "id": "fc16915f-a8f2-4ac9-a053-3bf1697c54af",
   "metadata": {},
   "outputs": [],
   "source": [
    "from torch.utils.data import Dataset\n",
    "\n",
    "# Sentiment Dataset\n",
    "class SentimentDataset(Dataset):\n",
    "    def __init__(self, sequences, labels):\n",
    "        self.sequences = torch.tensor(sequences, dtype=torch.long)\n",
    "        self.labels = torch.tensor(labels, dtype=torch.long).squeeze()\n",
    "\n",
    "    def __len__(self):\n",
    "        return len(self.labels)\n",
    "\n",
    "    def __getitem__(self, idx):\n",
    "        sample = {\n",
    "            'sequence': self.sequences[idx],\n",
    "            'label': self.labels[idx]\n",
    "        }\n",
    "        return sample"
   ]
  },
  {
   "cell_type": "code",
   "execution_count": 39,
   "id": "7dbf3b02-c712-4311-a6bb-038da21e3629",
   "metadata": {},
   "outputs": [],
   "source": [
    "from torch.utils.data import DataLoader\n",
    "\n",
    "# Pass our training and validation data through custom dataset\n",
    "train_data = SentimentDataset(X_train, y_train)\n",
    "val_data = SentimentDataset(X_test, y_test)\n",
    "\n",
    "# Dataloaders for batching\n",
    "train_loader = DataLoader(\n",
    "    dataset=train_data,\n",
    "    batch_size=BATCH_SIZE,\n",
    "    shuffle=True,\n",
    "    num_workers=0 \n",
    ")\n",
    "val_loader = DataLoader(\n",
    "    dataset=val_data,\n",
    "    batch_size=BATCH_SIZE,\n",
    "    shuffle=False,\n",
    "    num_workers=0 \n",
    ")"
   ]
  },
  {
   "cell_type": "code",
   "execution_count": 40,
   "id": "66e8d2da-9325-4ff7-8024-a302e8e9e437",
   "metadata": {},
   "outputs": [
    {
     "name": "stdout",
     "output_type": "stream",
     "text": [
      "Epoch 1/15\n",
      "Train Loss: 0.3792\n",
      "Validation Loss: 0.2888\n",
      "Validation Accuracy: 0.8407\n",
      "Epoch 2/15\n",
      "Train Loss: 0.2517\n",
      "Validation Loss: 0.2554\n",
      "Validation Accuracy: 0.8639\n",
      "Epoch 3/15\n",
      "Train Loss: 0.1688\n",
      "Validation Loss: 0.2554\n",
      "Validation Accuracy: 0.8755\n",
      "Early stopping at epoch 4\n"
     ]
    }
   ],
   "source": [
    "from sklearn.metrics import accuracy_score\n",
    "import torch.optim as optim\n",
    "\n",
    "device = torch.device('cuda' if torch.cuda.is_available() else 'cpu')\n",
    "\n",
    "# Train model\n",
    "def train_model(model, train_loader, val_loader, criterion, optimizer, n_epochs, device):\n",
    "    model.to(device)\n",
    "\n",
    "    best_val_loss = float('inf')\n",
    "    patience = 2\n",
    "    trigger_times = 0\n",
    "\n",
    "    # Loop through epochs\n",
    "    for epoch in range(n_epochs):\n",
    "        model.train()\n",
    "        running_loss = 0.0\n",
    "\n",
    "        # Loop through each batch in train_loader\n",
    "        for i, batch in enumerate(train_loader):\n",
    "            inputs = batch['sequence'].to(device)\n",
    "            labels = batch['label'].to(device) \n",
    "            optimizer.zero_grad()\n",
    "            outputs = model(inputs)\n",
    "            loss = criterion(outputs, labels)\n",
    "            loss.backward()\n",
    "            optimizer.step()\n",
    "            running_loss += loss.item() * inputs.size(0)\n",
    "\n",
    "        # Evaluate train loss, val loss, and val accuracy\n",
    "        train_loss = running_loss / len(train_loader.dataset)\n",
    "        val_loss, val_accuracy = evaluate_model(model, val_loader, criterion, device)\n",
    "        if val_loss < best_val_loss:\n",
    "            best_val_loss = val_loss\n",
    "            trigger_times = 0\n",
    "            torch.save(model.state_dict(), 'best_model.pt')\n",
    "        else:\n",
    "            trigger_times += 1\n",
    "            if trigger_times >= patience:\n",
    "                print(f\"Early stopping at epoch {epoch+1}\")\n",
    "                break\n",
    "\n",
    "        # Print out model results\n",
    "        print(f'Epoch {epoch+1}/{n_epochs}')\n",
    "        print(f'Train Loss: {train_loss:.4f}')\n",
    "        print(f'Validation Loss: {val_loss:.4f}')\n",
    "        print(f'Validation Accuracy: {val_accuracy:.4f}') \n",
    "        scheduler.step(val_loss)\n",
    "        \n",
    "train_model(model, train_loader, val_loader, criterion, optimizer, N_EPOCHS, device)"
   ]
  },
  {
   "cell_type": "code",
   "execution_count": null,
   "id": "5b2a4a02-4716-4e77-b767-de4c90be69de",
   "metadata": {},
   "outputs": [],
   "source": []
  }
 ],
 "metadata": {
  "kernelspec": {
   "display_name": "Python (Network)",
   "language": "python",
   "name": "my_project_env"
  },
  "language_info": {
   "codemirror_mode": {
    "name": "ipython",
    "version": 3
   },
   "file_extension": ".py",
   "mimetype": "text/x-python",
   "name": "python",
   "nbconvert_exporter": "python",
   "pygments_lexer": "ipython3",
   "version": "3.10.11"
  }
 },
 "nbformat": 4,
 "nbformat_minor": 5
}
