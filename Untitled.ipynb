{
 "cells": [
  {
   "cell_type": "code",
   "execution_count": 1,
   "id": "7cbc5e20-341e-4cbc-b3bf-d20e40af9df2",
   "metadata": {},
   "outputs": [],
   "source": [
    "# Imports\n",
    "import matplotlib.pyplot as plt\n",
    "import numpy as np\n",
    "import nltk\n",
    "from nltk.corpus import stopwords\n",
    "from nltk.stem import *\n",
    "import pandas as pd\n",
    "import re\n",
    "from sklearn.model_selection import train_test_split\n",
    "from tensorflow.keras import Sequential\n",
    "from tensorflow.keras.callbacks import EarlyStopping\n",
    "from tensorflow.keras.layers import Dense, Dropout, Embedding, LSTM\n",
    "from tensorflow.keras.preprocessing.text import Tokenizer\n",
    "from tensorflow.keras.preprocessing.sequence import pad_sequences\n",
    "import tensorflow as tf\n",
    "import warnings"
   ]
  },
  {
   "cell_type": "code",
   "execution_count": 2,
   "id": "93c16770-885d-4ff3-8122-ef677a27f1e5",
   "metadata": {},
   "outputs": [],
   "source": [
    "# Disable Warnings\n",
    "warnings.filterwarnings('ignore')"
   ]
  },
  {
   "cell_type": "code",
   "execution_count": 3,
   "id": "5e8b90cf-1406-4fe8-bfaf-e837c220c272",
   "metadata": {},
   "outputs": [],
   "source": [
    "# Load CSV file\n",
    "reviews = pd.read_csv('data/YoutubeCommentsDataSet.csv', sep=',')"
   ]
  },
  {
   "cell_type": "code",
   "execution_count": 4,
   "id": "fab034b0-aab4-439a-9f1a-a80f49e906d9",
   "metadata": {},
   "outputs": [],
   "source": [
    "reviews.rename(columns={'Comment' : 'comment', 'Sentiment' : 'sentiment'}, inplace=True)"
   ]
  },
  {
   "cell_type": "code",
   "execution_count": 5,
   "id": "4d41e0fb-0050-4172-bed4-bd3b6c952f57",
   "metadata": {},
   "outputs": [
    {
     "data": {
      "text/plain": [
       "0        lets not forget that apple pay in 2014 require...\n",
       "1        here in nz 50 of retailers don’t even have con...\n",
       "2        i will forever acknowledge this channel with t...\n",
       "3        whenever i go to a place that doesn’t take app...\n",
       "4        apple pay is so convenient secure and easy to ...\n",
       "                               ...                        \n",
       "18403    i really like the point about engineering tool...\n",
       "18404    i’ve just started exploring this field and thi...\n",
       "18405    excelente video con una pregunta filosófica pr...\n",
       "18406    hey daniel just discovered your channel a coup...\n",
       "18407    this is great focus is key a playful approach ...\n",
       "Name: comment, Length: 18408, dtype: object"
      ]
     },
     "execution_count": 5,
     "metadata": {},
     "output_type": "execute_result"
    }
   ],
   "source": [
    "reviews['comment']"
   ]
  },
  {
   "cell_type": "code",
   "execution_count": 6,
   "id": "da7b4792-1232-4769-a3eb-7759899ecb8b",
   "metadata": {
    "scrolled": true
   },
   "outputs": [
    {
     "data": {
      "text/plain": [
       "0         neutral\n",
       "1        negative\n",
       "2        positive\n",
       "3        negative\n",
       "4        positive\n",
       "           ...   \n",
       "18403    positive\n",
       "18404    positive\n",
       "18405     neutral\n",
       "18406    positive\n",
       "18407    positive\n",
       "Name: sentiment, Length: 18408, dtype: object"
      ]
     },
     "execution_count": 6,
     "metadata": {},
     "output_type": "execute_result"
    }
   ],
   "source": [
    "reviews['sentiment']"
   ]
  },
  {
   "cell_type": "code",
   "execution_count": 7,
   "id": "9e288224-9ee3-4eb8-97b9-95b837e29096",
   "metadata": {},
   "outputs": [],
   "source": [
    "# Remove nulls from dataframe\n",
    "reviews.dropna(inplace=True)"
   ]
  },
  {
   "cell_type": "code",
   "execution_count": 8,
   "id": "4d1a3e0a-b922-45a1-859f-12828b23a77b",
   "metadata": {},
   "outputs": [],
   "source": [
    "reviews['comment_length'] = reviews['comment'].str.len()"
   ]
  },
  {
   "cell_type": "code",
   "execution_count": 9,
   "id": "039ab087-6e22-44ec-b947-2c9beb318cd0",
   "metadata": {},
   "outputs": [
    {
     "data": {
      "text/plain": [
       "0        317\n",
       "1        163\n",
       "2        183\n",
       "3        450\n",
       "4        135\n",
       "        ... \n",
       "18403    277\n",
       "18404    118\n",
       "18405    244\n",
       "18406     88\n",
       "18407    404\n",
       "Name: comment_length, Length: 18364, dtype: int64"
      ]
     },
     "execution_count": 9,
     "metadata": {},
     "output_type": "execute_result"
    }
   ],
   "source": [
    "reviews['comment_length']"
   ]
  },
  {
   "cell_type": "code",
   "execution_count": 10,
   "id": "07097c20-911e-426c-98ff-626f4a6f8b00",
   "metadata": {},
   "outputs": [
    {
     "data": {
      "text/plain": [
       "(0.0, 1000.0)"
      ]
     },
     "execution_count": 10,
     "metadata": {},
     "output_type": "execute_result"
    },
    {
     "data": {
      "image/png": "[encoded data removed]",
      "text/plain": [
       "<Figure size 640x480 with 1 Axes>"
      ]
     },
     "metadata": {},
     "output_type": "display_data"
    }
   ],
   "source": [
    "plt.hist(reviews['comment_length'], bins=1000, color='purple')\n",
    "plt.xlim(0, 1000)"
   ]
  },
  {
   "cell_type": "code",
   "execution_count": 11,
   "id": "a9e82569-2716-4bd5-8f6f-d83e96a72c12",
   "metadata": {},
   "outputs": [
    {
     "data": {
      "text/plain": [
       "7847"
      ]
     },
     "execution_count": 11,
     "metadata": {},
     "output_type": "execute_result"
    }
   ],
   "source": [
    "max(reviews['comment_length'])"
   ]
  },
  {
   "cell_type": "code",
   "execution_count": 12,
   "id": "7996fcad-1436-4ff8-8a43-5e30f0f5f176",
   "metadata": {},
   "outputs": [
    {
     "data": {
      "text/plain": [
       "np.float64(177.5541276410368)"
      ]
     },
     "execution_count": 12,
     "metadata": {},
     "output_type": "execute_result"
    }
   ],
   "source": [
    "np.mean(reviews['comment_length'])"
   ]
  },
  {
   "cell_type": "code",
   "execution_count": 13,
   "id": "80ee02d1-d0f4-459b-8f35-f198a1b448f2",
   "metadata": {},
   "outputs": [
    {
     "data": {
      "text/plain": [
       "np.float64(113.0)"
      ]
     },
     "execution_count": 13,
     "metadata": {},
     "output_type": "execute_result"
    }
   ],
   "source": [
    "np.median(reviews['comment_length'])"
   ]
  },
  {
   "cell_type": "code",
   "execution_count": 14,
   "id": "8ab3e378-100b-4b24-8447-7c0cdbd34ec6",
   "metadata": {},
   "outputs": [
    {
     "data": {
      "text/html": [
       "<div>\n",
       "<style scoped>\n",
       "    .dataframe tbody tr th:only-of-type {\n",
       "        vertical-align: middle;\n",
       "    }\n",
       "\n",
       "    .dataframe tbody tr th {\n",
       "        vertical-align: top;\n",
       "    }\n",
       "\n",
       "    .dataframe thead th {\n",
       "        text-align: right;\n",
       "    }\n",
       "</style>\n",
       "<table border=\"1\" class=\"dataframe\">\n",
       "  <thead>\n",
       "    <tr style=\"text-align: right;\">\n",
       "      <th></th>\n",
       "      <th>comment</th>\n",
       "      <th>sentiment</th>\n",
       "      <th>comment_length</th>\n",
       "    </tr>\n",
       "  </thead>\n",
       "  <tbody>\n",
       "    <tr>\n",
       "      <th>0</th>\n",
       "      <td>lets not forget that apple pay in 2014 require...</td>\n",
       "      <td>neutral</td>\n",
       "      <td>317</td>\n",
       "    </tr>\n",
       "    <tr>\n",
       "      <th>1</th>\n",
       "      <td>here in nz 50 of retailers don’t even have con...</td>\n",
       "      <td>negative</td>\n",
       "      <td>163</td>\n",
       "    </tr>\n",
       "    <tr>\n",
       "      <th>2</th>\n",
       "      <td>i will forever acknowledge this channel with t...</td>\n",
       "      <td>positive</td>\n",
       "      <td>183</td>\n",
       "    </tr>\n",
       "    <tr>\n",
       "      <th>3</th>\n",
       "      <td>whenever i go to a place that doesn’t take app...</td>\n",
       "      <td>negative</td>\n",
       "      <td>450</td>\n",
       "    </tr>\n",
       "    <tr>\n",
       "      <th>4</th>\n",
       "      <td>apple pay is so convenient secure and easy to ...</td>\n",
       "      <td>positive</td>\n",
       "      <td>135</td>\n",
       "    </tr>\n",
       "    <tr>\n",
       "      <th>...</th>\n",
       "      <td>...</td>\n",
       "      <td>...</td>\n",
       "      <td>...</td>\n",
       "    </tr>\n",
       "    <tr>\n",
       "      <th>18403</th>\n",
       "      <td>i really like the point about engineering tool...</td>\n",
       "      <td>positive</td>\n",
       "      <td>277</td>\n",
       "    </tr>\n",
       "    <tr>\n",
       "      <th>18404</th>\n",
       "      <td>i’ve just started exploring this field and thi...</td>\n",
       "      <td>positive</td>\n",
       "      <td>118</td>\n",
       "    </tr>\n",
       "    <tr>\n",
       "      <th>18405</th>\n",
       "      <td>excelente video con una pregunta filosófica pr...</td>\n",
       "      <td>neutral</td>\n",
       "      <td>244</td>\n",
       "    </tr>\n",
       "    <tr>\n",
       "      <th>18406</th>\n",
       "      <td>hey daniel just discovered your channel a coup...</td>\n",
       "      <td>positive</td>\n",
       "      <td>88</td>\n",
       "    </tr>\n",
       "    <tr>\n",
       "      <th>18407</th>\n",
       "      <td>this is great focus is key a playful approach ...</td>\n",
       "      <td>positive</td>\n",
       "      <td>404</td>\n",
       "    </tr>\n",
       "  </tbody>\n",
       "</table>\n",
       "<p>17874 rows × 3 columns</p>\n",
       "</div>"
      ],
      "text/plain": [
       "                                                 comment sentiment  \\\n",
       "0      lets not forget that apple pay in 2014 require...   neutral   \n",
       "1      here in nz 50 of retailers don’t even have con...  negative   \n",
       "2      i will forever acknowledge this channel with t...  positive   \n",
       "3      whenever i go to a place that doesn’t take app...  negative   \n",
       "4      apple pay is so convenient secure and easy to ...  positive   \n",
       "...                                                  ...       ...   \n",
       "18403  i really like the point about engineering tool...  positive   \n",
       "18404  i’ve just started exploring this field and thi...  positive   \n",
       "18405  excelente video con una pregunta filosófica pr...   neutral   \n",
       "18406  hey daniel just discovered your channel a coup...  positive   \n",
       "18407  this is great focus is key a playful approach ...  positive   \n",
       "\n",
       "       comment_length  \n",
       "0                 317  \n",
       "1                 163  \n",
       "2                 183  \n",
       "3                 450  \n",
       "4                 135  \n",
       "...               ...  \n",
       "18403             277  \n",
       "18404             118  \n",
       "18405             244  \n",
       "18406              88  \n",
       "18407             404  \n",
       "\n",
       "[17874 rows x 3 columns]"
      ]
     },
     "execution_count": 14,
     "metadata": {},
     "output_type": "execute_result"
    }
   ],
   "source": [
    "# Remove duplicate rows\n",
    "reviews = reviews[~reviews.duplicated()]\n",
    "reviews"
   ]
  },
  {
   "cell_type": "code",
   "execution_count": 15,
   "id": "3cc65e89-5c73-43d1-a787-a8d4f0b1819c",
   "metadata": {},
   "outputs": [
    {
     "data": {
      "text/plain": [
       "0"
      ]
     },
     "execution_count": 15,
     "metadata": {},
     "output_type": "execute_result"
    }
   ],
   "source": [
    "# Confirm duplicate rows have been removed\n",
    "len(reviews[reviews.duplicated()])"
   ]
  },
  {
   "cell_type": "code",
   "execution_count": 16,
   "id": "a0db469f-3a80-4da8-b87e-c4e9a46a4040",
   "metadata": {},
   "outputs": [],
   "source": [
    "# Set all reviews to lowercase to maintain consistency\n",
    "reviews['comment'] = reviews['comment'].str.lower()"
   ]
  },
  {
   "cell_type": "code",
   "execution_count": 17,
   "id": "2ad3871c-ffcf-4f4d-a670-dcd5328e169d",
   "metadata": {},
   "outputs": [],
   "source": [
    "# Remove non-ASCII characters\n",
    "reviews['comment'] = reviews['comment'].str.replace(r'[^\\x00-\\x7F]+', '', regex=True)"
   ]
  },
  {
   "cell_type": "code",
   "execution_count": 18,
   "id": "00c43e6a-6501-486e-9491-744f07450301",
   "metadata": {},
   "outputs": [],
   "source": [
    "# Remove punctuation and numbers\n",
    "reviews['comment'] = reviews['comment'].apply(lambda x : re.sub(r'[^A-Za-z\\s]', '', x))"
   ]
  },
  {
   "cell_type": "code",
   "execution_count": 19,
   "id": "4a47b9a2-17ab-468f-9aee-d11919982cfa",
   "metadata": {},
   "outputs": [
    {
     "name": "stdout",
     "output_type": "stream",
     "text": [
      "Empty DataFrame\n",
      "Columns: [comment, sentiment, comment_length]\n",
      "Index: []\n"
     ]
    }
   ],
   "source": [
    "# Verify that unnecessary values were removed\n",
    "mask = reviews['comment'].str.contains(r'[^A-Za-z ]', regex=True, na=False)\n",
    "print(reviews[mask])"
   ]
  },
  {
   "cell_type": "code",
   "execution_count": 20,
   "id": "c23c339f-39a1-4923-9be4-1d4345de0325",
   "metadata": {},
   "outputs": [],
   "source": [
    "# Remove extra spaces\n",
    "reviews['comment'] = reviews['comment'].str.split().str.join(' ')"
   ]
  },
  {
   "cell_type": "code",
   "execution_count": 21,
   "id": "7a0ff7d6-6dab-4ec2-80df-43acf6543267",
   "metadata": {},
   "outputs": [],
   "source": [
    "# Remove leading and trailing whitespace\n",
    "reviews['comment'] = reviews['comment'].str.strip()"
   ]
  },
  {
   "cell_type": "code",
   "execution_count": 22,
   "id": "80b9b320-25ce-45a2-8bc2-4a8ef1ffaeec",
   "metadata": {},
   "outputs": [
    {
     "name": "stdout",
     "output_type": "stream",
     "text": [
      "Empty DataFrame\n",
      "Columns: [comment, sentiment, comment_length]\n",
      "Index: []\n"
     ]
    }
   ],
   "source": [
    "# Confirm there are no extra spaces (i.e., no more than 2 spaces together\n",
    "mask = reviews['comment'].str.contains(r'\\s{2,}', regex=True, na=False)\n",
    "print(reviews[mask])"
   ]
  },
  {
   "cell_type": "code",
   "execution_count": 23,
   "id": "190262b5-5c8e-4b08-a5bf-5b509739a1d2",
   "metadata": {},
   "outputs": [
    {
     "name": "stderr",
     "output_type": "stream",
     "text": [
      "[nltk_data] Downloading package stopwords to\n",
      "[nltk_data]     C:\\Users\\Benji\\AppData\\Roaming\\nltk_data...\n",
      "[nltk_data]   Package stopwords is already up-to-date!\n"
     ]
    }
   ],
   "source": [
    "# Get rid of stopwords and perform stemming\n",
    "nltk.download('stopwords')\n",
    "stop_words = set(stopwords.words('english'))\n",
    "stemmer = PorterStemmer()\n",
    "def preprocess(text):\n",
    "    tokens = text.split()\n",
    "    processed = [stemmer.stem(word) for word in tokens if word not in stop_words]\n",
    "    return ' '.join(processed)\n",
    "\n",
    "reviews['comment'] = reviews['comment'].apply(preprocess)"
   ]
  },
  {
   "cell_type": "code",
   "execution_count": 24,
   "id": "272f066f-b745-4db7-a67d-8596cfaae1e1",
   "metadata": {},
   "outputs": [
    {
     "data": {
      "text/plain": [
       "0    let forget appl pay requir brand new iphon ord...\n",
       "1    nz retail dont even contactless credit card ma...\n",
       "2    forev acknowledg channel help lesson idea expl...\n",
       "3    whenev go place doesnt take appl pay doesnt ha...\n",
       "4    appl pay conveni secur easi use use korean jap...\n",
       "5    weve hound bank adopt appl pay understand dont...\n",
       "6                got appl pay south africa wide accept\n",
       "7                     need appl pay physic credit card\n",
       "8    unit state abund retail accept appl pay still ...\n",
       "9    cambodia univers qr code system scan send mone...\n",
       "Name: comment, dtype: object"
      ]
     },
     "execution_count": 24,
     "metadata": {},
     "output_type": "execute_result"
    }
   ],
   "source": [
    "reviews['comment'].head(10)"
   ]
  }
 ],
 "metadata": {
  "kernelspec": {
   "display_name": "Python (Network)",
   "language": "python",
   "name": "my_project_env"
  },
  "language_info": {
   "codemirror_mode": {
    "name": "ipython",
    "version": 3
   },
   "file_extension": ".py",
   "mimetype": "text/x-python",
   "name": "python",
   "nbconvert_exporter": "python",
   "pygments_lexer": "ipython3",
   "version": "3.10.11"
  }
 },
 "nbformat": 4,
 "nbformat_minor": 5
}
